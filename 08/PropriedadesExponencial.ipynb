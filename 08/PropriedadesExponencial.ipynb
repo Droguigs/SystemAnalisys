{
 "cells": [
  {
   "cell_type": "markdown",
   "metadata": {},
   "source": [
    "# Simulação das propriedades da exponencial"
   ]
  },
  {
   "cell_type": "markdown",
   "metadata": {},
   "source": [
    "### Importar bibliotecas"
   ]
  },
  {
   "cell_type": "code",
   "execution_count": 12,
   "metadata": {},
   "outputs": [],
   "source": [
    "import time\n",
    "import numpy as np\n",
    "import scipy.stats as st"
   ]
  },
  {
   "cell_type": "markdown",
   "metadata": {},
   "source": [
    "## Probabilidade de uma variável aleatória exponencial ser menor do que outra\n",
    "Sejam $X_{1}$ e $X_{2}$ variáveis aleatórias independentes com média ${mu}_{1} = 1/L_{1}$ e ${mu}_{2} = 1/L_{2}$<br>\n",
    "\n",
    "* P[$X_{1} \\leq X_{2}$] = $\\frac{L_{1}}{L_{1}+L_{2}}$<br><br>\n",
    "\n",
    "Podemos simular essa probabilidade com o seguinte algoritmo vetorial, implementado na função **pExpMenor**.<br>\n",
    "* Sortear array ${exp}_{1}$ com $nSim$ valores exponenciais com média ${mu}_{1}$.<br>\n",
    "* Sortear array ${exp}_{2}$ com $nSim$ valores exponenciais com média ${mu}_{2}$.<br>\n",
    "* Calcular vetor $menor$ com valores $True$ se ${exp}_{1}$ < ${exp}_{2}$. <br>\n",
    "* Retornar a quantidade de elementos no vetor $menor$ contendo valor True, dividida por $nSim$.<br><br>"
   ]
  },
  {
   "cell_type": "code",
   "execution_count": 13,
   "metadata": {},
   "outputs": [],
   "source": [
    "def pExpMenor(MU1, MU2, nSim):\n",
    "    exp1 = st.expon.rvs(scale=MU1, size=nSim)\n",
    "    exp2 = st.expon.rvs(scale=MU2, size=nSim)\n",
    "    menor = exp1 < exp2\n",
    "    return np.count_nonzero(menor) / nSim"
   ]
  },
  {
   "cell_type": "markdown",
   "metadata": {},
   "source": [
    "O código a seguir compara o valor de probabildade simulado pela função **pExpMenor** com o valor teórico."
   ]
  },
  {
   "cell_type": "code",
   "execution_count": 14,
   "metadata": {},
   "outputs": [
    {
     "name": "stdout",
     "output_type": "stream",
     "text": [
      "Probabilidade simulada:  0.6667\n",
      "Probabilidade teórica: 0.6667\n",
      "Tempo de simulação: 0.0028\n"
     ]
    }
   ],
   "source": [
    "mu1 = 2\n",
    "mu2 = 4\n",
    "nSim = 10000\n",
    "\n",
    "probT = (1/mu1)/(1/mu1+1/mu2)\n",
    "t1 = time.perf_counter()\n",
    "probS = pExpMenor(mu1, mu2, nSim)\n",
    "t2 = time.perf_counter()\n",
    "print('Probabilidade simulada:  {:.4f}'.format(probS))\n",
    "print('Probabilidade teórica: {:.4f}'.format(probT))\n",
    "print('Tempo de simulação: {:.4f}'.format(t2-t1))"
   ]
  },
  {
   "cell_type": "markdown",
   "metadata": {},
   "source": [
    "## Distribuição da soma de *N* variáveis aleatórias exponenciais\n",
    "Sejam $X_{1}, X_{2}, \\cdots , X_{N}$ variáveis aleatórias independentes com média $mu_{1} = 1/L$<br>\n",
    "$X = X_{1} + X_{2} + \\cdots + X_{N}$ tem distribuição Erlang com parâmetros *N* e *L*.\n",
    "* $f_{X}(x)=\\frac{L^{N}x^{N-1}e^{-Lx}}{\\tau (N)}$\n",
    "* $F_{X}(x)=1-\\sum_{j=0}^{N-1}e^{-Lx}\\frac{(Lx)^{j}}{j!}$\n",
    "\n",
    "Com a biblioteca Scipy temos:<br>\n",
    "* P[$X \\leq x$] = st.gamma.cdf(x, a=N, scale=MU)<br><br>"
   ]
  },
  {
   "cell_type": "markdown",
   "metadata": {},
   "source": [
    "## Algoritmo interativo\n",
    "Podemos calcular simular a CDF da soma de $N$ variáveis aleatórias exponencias com média $MU$ com o seguinte algoritmo interativo:<br>\n",
    "* Iniciar a variável $deuCerto$ com zero.<br>\n",
    "* Sortear o array $EXP$ com $N$ variáveis aleatórias com média $MU$.<br>\n",
    "* Calcular o array $soma$ contendo o somatório de $EXP$, ou seja, a soma de $N$ variáveis aleatórias exponenciais com média $MU$.<br>\n",
    "* Incrementar $deuCerto$, e a soma for menor do que o valor $x$ para o qual queremos calcular a CDF (passado com argumento).<br>\n",
    "* Retornar $deuCerto$ dividido por $nSim$.<br><br>"
   ]
  },
  {
   "cell_type": "code",
   "execution_count": 15,
   "metadata": {},
   "outputs": [],
   "source": [
    "def somaExpCDFI(x, N, MU, nSim):\n",
    "    deuCerto = 0\n",
    "    for i in range(nSim):\n",
    "        EXP = st.expon.rvs(scale=MU, size=N)\n",
    "        soma = sum(EXP)\n",
    "        if soma <= x:\n",
    "            deuCerto = deuCerto + 1\n",
    "    return deuCerto/nSim"
   ]
  },
  {
   "cell_type": "markdown",
   "metadata": {},
   "source": [
    "O código a seguir compara o valor de probabildade simulado pela função **somaExpCDFI** com o valor da CDF da variável gamma calculado pela biblioteca Scipy."
   ]
  },
  {
   "cell_type": "code",
   "execution_count": 16,
   "metadata": {},
   "outputs": [
    {
     "name": "stdout",
     "output_type": "stream",
     "text": [
      "Probabilidade simulada:  0.3231\n",
      "Probabilidade teórica: 0.3255\n",
      "Tempo de simulação: 2.7193\n"
     ]
    }
   ],
   "source": [
    "x = 25\n",
    "N = 10\n",
    "MU = 3\n",
    "nSim = 100000\n",
    "\n",
    "probT = st.gamma.cdf(x, a=N, scale=MU) \n",
    "t1 = time.perf_counter()\n",
    "probS = somaExpCDFI(x, N, MU, nSim)\n",
    "t2 = time.perf_counter()\n",
    "print('Probabilidade simulada:  {:.4f}'.format(probS))\n",
    "print('Probabilidade teórica: {:.4f}'.format(probT))\n",
    "print('Tempo de simulação: {:.4f}'.format(t2-t1))"
   ]
  },
  {
   "cell_type": "markdown",
   "metadata": {},
   "source": [
    "## Algoritmo vetorial\n",
    "Podemos calcular simular a CDF da soma de $N$ variáveis aleatórias exponencias com média $MU$ com o seguinte algoritmo vetorial implementado com a biblioteca numpy:<br>\n",
    "\n",
    "Sortear a matriz $EXP$ com $nSim$ linhas e $N$ colunas.<br>\n",
    "* Observação: Cada linha corresponde a uma simulação e contém os valores das $N$ exponencias sorteadas com média MU. <br>\n",
    "* Dica: usar np.random.exponential(MU, [nSim, N]) <br><br>\n",
    "\n",
    "Calcular o array $soma$ contendo o somatório de cada linha da matriz $EXP$, ou seja, cada elento tem a soma de $N$ variáveis aleatórias exponenciais com média $MU$.<br>\n",
    "* Dica: usar np.sum(), observando que tem que somar as linhas. <br><br>\n",
    "\n",
    "Calcular o array $menor$ que contém $True$ para cada linha da matriz cuja soma menor seja do que o valor $x$ para o qual queremos calcular a CDF (passado com argumento).<br>\n",
    "* Dica: (soma <= x)<br><br>\n",
    "\n",
    "Retornar a quantidade de elementos no vetor $menor$ contendo valor True, dividida por $nSim$.<br>\n",
    "* Dica: usar a função np.count_nonzero para contar a quantidade de elementos com valor True.<br><br>"
   ]
  },
  {
   "cell_type": "code",
   "execution_count": 27,
   "metadata": {},
   "outputs": [],
   "source": [
    "def somaExpCDFV(x, N, MU, nSim):\n",
    "    array = []\n",
    "    for i in range(nSim):\n",
    "        EXP = np.random.exponential(MU, [nSim, N])\n",
    "        soma = sum(EXP)\n",
    "        array.append(soma<=x)\n",
    "    return np.count_nonzero(array)\n",
    "    "
   ]
  },
  {
   "cell_type": "markdown",
   "metadata": {},
   "source": [
    "O código a seguir compara o valor de probabildade simulado pela função **somaExpCDFV** com o valor da CDF da variável gamma calculado pela biblioteca Scipy."
   ]
  },
  {
   "cell_type": "code",
   "execution_count": 28,
   "metadata": {},
   "outputs": [
    {
     "name": "stdout",
     "output_type": "stream",
     "text": [
      "Probabilidade simulada:  30.0000\n",
      "Probabilidade teórica: 0.3255\n",
      "Tempo de simulação: 0.0027\n"
     ]
    }
   ],
   "source": [
    "x = 25\n",
    "N = 10\n",
    "MU = 3\n",
    "nSim = 10\n",
    "\n",
    "probT = st.gamma.cdf(x, a=N, scale=MU) \n",
    "t1 = time.perf_counter()\n",
    "probS = somaExpCDFV(x, N, MU, nSim)\n",
    "t2 = time.perf_counter()\n",
    "print('Probabilidade simulada:  {:.4f}'.format(probS))\n",
    "print('Probabilidade teórica: {:.4f}'.format(probT))\n",
    "print('Tempo de simulação: {:.4f}'.format(t2-t1))"
   ]
  },
  {
   "cell_type": "markdown",
   "metadata": {},
   "source": [
    "## Entrega\n",
    "Completar o algoritmo.\n",
    "Imprimir para PDF.\n",
    "Enviar no AVA>"
   ]
  }
 ],
 "metadata": {
  "kernelspec": {
   "display_name": "Python 3 (ipykernel)",
   "language": "python",
   "name": "python3"
  },
  "language_info": {
   "codemirror_mode": {
    "name": "ipython",
    "version": 3
   },
   "file_extension": ".py",
   "mimetype": "text/x-python",
   "name": "python",
   "nbconvert_exporter": "python",
   "pygments_lexer": "ipython3",
   "version": "3.9.5"
  }
 },
 "nbformat": 4,
 "nbformat_minor": 4
}
