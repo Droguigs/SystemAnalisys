{
 "cells": [
  {
   "cell_type": "markdown",
   "metadata": {},
   "source": [
    "# FORMATIVA - cadeias de Markov em tempo discreto"
   ]
  },
  {
   "cell_type": "markdown",
   "metadata": {},
   "source": [
    "Importar as bibliotecas que serão usadas."
   ]
  },
  {
   "cell_type": "code",
   "execution_count": null,
   "metadata": {},
   "outputs": [],
   "source": [
    "import numpy as np"
   ]
  },
  {
   "cell_type": "markdown",
   "metadata": {},
   "source": [
    "### Exercício 1\n",
    "Paulo está de bom humor (BH), mais ou menos (MM) ou de mau humor (MH). Se ele está BH hoje, então estará BH, MM e MH amanhã, com as seguintes probabilidades: 0,5, 0,4, 0,1. Se ele está MM hoje, então estará BH, MM e MH amanhã com as seguintes probabilidades: 0,3, 0,4, 0,3. se ele está MH hoje, então ele estará BH, MM, e MH com as seguintes probabilidades: 0,2, 03, 0,5. O humor do Pulo pode ser modelado por uma CMTD com a seguinte matriz de transição: \n",
    "\n",
    "$\\mathbf{P} = \\begin{bmatrix}0.5 & 0.4 & 0.1\\\\0.3 & 0.4 & 0.3\\\\0.2 & 0.3 & 0.5\\end{bmatrix}$\n",
    "\n",
    "a) Calcule a probabilidade de Paulo estar de mau humor hoje e ficar de humor mais ou menos daqui a 3 dias<br>\n",
    "Dica: A probabilidade desejada estará será uma transição de mau humor (estado 3) para mais ou menos (estado 2) em 3 dias. Ou seja, o valor da probabilidade pode ser encontrado terceira linha da segunda coluna da matriz P elevada à terceira potência."
   ]
  },
  {
   "cell_type": "code",
   "execution_count": null,
   "metadata": {},
   "outputs": [],
   "source": [
    "P = np.array([[0.5, 0.4, 0.1],[0.3, 0.4, 0.3],[0.2, 0.3, 0.5]], dtype=np.float64)\n",
    "P3 = np.linalg.matrix_power(P,3)\n",
    "print(P3)\n",
    "print(P3[2,1])\n",
    "print('Probabilidade de Paulo estar de mau humor hoje e ficar de humor mais ou menos daqui a 3 dias: {:.4f}'.format(P3[2,1]))"
   ]
  },
  {
   "cell_type": "markdown",
   "metadata": {},
   "source": [
    "b) Calcule a matriz A, o vetor B e o vetor PI do regime permanente do humor do Paulo.\n",
    "Calcular as probabilidades no regime permanente da CMTD representada pela seguinte matriz de "
   ]
  },
  {
   "cell_type": "code",
   "execution_count": null,
   "metadata": {},
   "outputs": [],
   "source": [
    "A = np.array([[-0.5, 0.3, 0.2], [0.4, -0.6, 0.3], [0.1, 0.3, -0.5], [1, 1, 1]], dtype=np.float64)\n",
    "B= np.array([0, 0, 0, 1] , dtype=np.float64)\n",
    "\n",
    "A_pinv = np.linalg.pinv(A)\n",
    "PI = np.dot(A_pinv,B)\n",
    "print(PI)"
   ]
  },
  {
   "cell_type": "markdown",
   "metadata": {},
   "source": [
    "# Exercício 2\n",
    "Implementar uma função cmtdP para calcular o estado permanente de uma cadeia de Markov em tempo discreto.<br>\n",
    "A função recebe como argumento a matriz de probabilidades de um passo (P)<br><br>\n",
    "Algoritmo:\n",
    "* Testa se a matriz está corretamente construída<br>\n",
    "Matriz quadrada e probabilidades de uma linha tem que somar 1\n",
    "* Calcula matriz A <br>\n",
    "n = dimensão de A<br>\n",
    "A = Transposta(P) - Identidade (usar np.transpose e np.identity) <br>\n",
    "A = A concatenada com vetor de 1s de tamanho n (usar np.vstack para concatenar)\n",
    "* Calcula vetor B <br>\n",
    "B = vetor de zeros de tamanho n concatenado com [1] (usar np.hstack para concatenar)\n",
    "* Calcular o vetor PI <br>\n",
    "Usar a função np.linalg.pinv para calcular PI"
   ]
  },
  {
   "cell_type": "code",
   "execution_count": null,
   "metadata": {},
   "outputs": [],
   "source": [
    "# Função cmtdP\n",
    "def cmtdP(P):\n",
    "    [r,c] = P.shape\n",
    "    if ((r != c) | np.all(np.sum(P, 1) != 1)):\n",
    "        raise Exception('Matriz P invalida!')\n",
    "\n",
    "    # Colocar seu código aqui\n",
    "\n",
    "    \n",
    "    return PI"
   ]
  },
  {
   "cell_type": "code",
   "execution_count": null,
   "metadata": {},
   "outputs": [],
   "source": [
    "# Testar o seu código\n",
    "# Se a implementação estiver correta o resultado deve ser [0.33870968 0.37096774 0.29032258]\n",
    "\n",
    "P = np.array([[0.5, 0.4, 0.1], [0.3, 0.4, 0.3], [0.2, 0.3, 0.5]], dtype=np.float64)\n",
    "\n",
    "print(cmtdP(P))"
   ]
  },
  {
   "cell_type": "markdown",
   "metadata": {},
   "source": [
    "### Exercício 3\n",
    "Pedro e Natália formam o casal perfeito, com apenas um probleminha: quem lava a louça hoje? Na maior parte das vezes ambos são voluntários, mas de vez em quando a louça fica para o dia seguinte. A Natália observou que os fatos ocorrem, mais precisamente, da seguinte maneira: (i) Quando não há louça acumulada, Natália e Pedro se apresentam na mesma proporção, mas em uma a cada cinco vezes, a louça fica para o dia seguinte. (ii) Quando a louça está um dia acumulada, Natália se apresenta três vezes mais do que Pedro, mas em uma a cada cinco vezes, a louça fica para o dia seguinte. (iii) Quando a louça está dois dias acumulada, apenas Natália se apresenta, mas em uma a cada cinco vezes, a louça fica para o dia seguinte. (iv) Quando a louça está três dias acumuladas, a Natália sempre se apresenta.<br><br>\n",
    "Calcular a matriz P e usar a função cmtdP para calcular o vetor de probabilidades do regime permanente."
   ]
  },
  {
   "cell_type": "code",
   "execution_count": null,
   "metadata": {},
   "outputs": [],
   "source": [
    "# Coloque aqui as probabilidades da matriz de transição de 1 passo\n",
    "P = np.array([[0, 0, 0, 0, 0, 0], [0, 0, 0, 0, 0, 0], [0, 0, 0, 0, 0, 0 ], \n",
    "              [0, 0, 0, 0, 0, 0], [0, 0, 0, 0, 0, 0], [0, 0, 0, 0, 0, 0]], \n",
    "             dtype=np.float64)\n",
    "print(P)\n",
    "\n",
    "# Imprimir o resultado\n",
    "print(cmtdP(P))\n",
    "\n",
    "# Se a sua matriz estiver correta você deve obter o seguinte resultado\n",
    "# [0.44483986 0.08896797 0.01779359 0.00355872 0.24911032 0.19572954]"
   ]
  },
  {
   "cell_type": "code",
   "execution_count": null,
   "metadata": {},
   "outputs": [],
   "source": []
  }
 ],
 "metadata": {
  "kernelspec": {
   "display_name": "Python 3",
   "language": "python",
   "name": "python3"
  },
  "language_info": {
   "codemirror_mode": {
    "name": "ipython",
    "version": 3
   },
   "file_extension": ".py",
   "mimetype": "text/x-python",
   "name": "python",
   "nbconvert_exporter": "python",
   "pygments_lexer": "ipython3",
   "version": "3.8.3"
  }
 },
 "nbformat": 4,
 "nbformat_minor": 4
}
