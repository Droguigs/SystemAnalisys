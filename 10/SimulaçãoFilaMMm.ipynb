{
 "cells": [
  {
   "cell_type": "markdown",
   "metadata": {},
   "source": [
    "# Simulação de filas MMm"
   ]
  },
  {
   "cell_type": "markdown",
   "metadata": {},
   "source": [
    "## Filas MMm\n",
    "O sistema possui  servidores e uma fila de espera de tamanho infinito.<br><br>\n",
    "As tarefas chegam segundo um processos de Poisson com taxa $\\lambda$, ou seja, o tempo decorrido entre duas chegadas consecutivas (variável $T$) tem distribuição exponencial com média $\\frac{1}{\\lambda}$.<br><br>\n",
    "A taxa de serviço em cada servidor é $\\mu$, ou seja, o tempo de serviço para cada tarefa (variável $S$) tem distribuição exponencial com media $\\frac{1}{\\mu}$.<br><br>\n",
    "A variável $R$ representa o tempo de resposta do sistema, ou seja, o tempo decorrido desde a chegada no sistema até a saída do mesmo.<br><br>\n",
    "A variável $W$ representa o tempo de espera na fila, ou seja, o tempo que uma tafefa permanece esperando na fila.<br><br>\n",
    "A variável $N$ representa a quantidade de tarefas dentro do sistema.<br><br>\n",
    "A variável $N_{q}$ representa a quantidade de tarefas na fila.<br><br>\n",
    "A variável $N_{s}$ representa a quantidade de tarefas sendo servidas.<br><br>\n",
    "Os parâmetros do sistema são:\n",
    "* Quantidade de servidores: $m$\n",
    "* Taxa de chegada: $\\lambda$\n",
    "* Taxa de serviço: $\\mu$\n",
    "* Quantidade de eventos simulados: $nsim$\n",
    "A taxa de serviço precisa ser maior do que a taxa de chegada ($\\mu > \\lambda$)"
   ]
  },
  {
   "cell_type": "markdown",
   "metadata": {},
   "source": [
    "### Classe Engine MMm\n",
    "A classe **engineMMm** implementa a simulação de filas MMm.<br><br>\n",
    "O contrutor da classe recebe como argumento a taxa de chegadas $\\lambda$, a taxa de serviço de cada servidor $\\mu$ e a quantidade de servidores $m$."
   ]
  },
  {
   "cell_type": "code",
   "execution_count": 1,
   "metadata": {},
   "outputs": [],
   "source": [
    "from engineMMm import engineMMm"
   ]
  },
  {
   "cell_type": "code",
   "execution_count": 2,
   "metadata": {},
   "outputs": [],
   "source": [
    "lb=2.2\n",
    "mu=10\n",
    "m=3\n",
    "engine = engineMMm(lb,mu,m)"
   ]
  },
  {
   "cell_type": "code",
   "execution_count": 3,
   "metadata": {},
   "outputs": [
    {
     "name": "stdout",
     "output_type": "stream",
     "text": [
      "--------------------------------------------------------------\n",
      "Numero de eventos                               : 50000\n",
      "Lambda                                          : 2.2000\n",
      "Mu                                              : 10.0000\n",
      "Numero de servidores                            : 3.0000\n",
      "Ro                                              : 0.0733\n",
      "Epsilon                                         : 0.0015\n",
      "P0                                              : 0.8025\n",
      "Taxa de perda                                   : 0.0000\n",
      "--------------------------------------------------------------\n",
      "\n",
      "Tempo medio na fila (simulado)                  : 0.0001\n",
      "Numero medio de elementos na fila (simulado)    : 0.0001\n",
      "Tempo medio de servico (simulado)               : 0.1002\n",
      "Numero medio de elementos servidos (simulado)   : 0.2203\n",
      "Tempo medio de resposta (simulado)              : 0.1002\n",
      "Numero medio de elemento no sistema (simulado)  : 0.2205\n",
      "Taxa de utilizacao do sistema (simulado)        : 0.1985\n",
      "--------------------------------------------------------------\n",
      "\n",
      "Tempo medio na fila (analítico)                 : 0.0001\n",
      "Numero medio de elementos na fila (analitico)   : 0.0001\n",
      "Tempo medio de servico (analítico)              : 0.1000\n",
      "Numero medio de elementos servidos (analitico)  : 0.2200\n",
      "Tempo medio de resposta (analítico)             : 0.1001\n",
      "Numero medio de elemento no sistema (analitico) : 0.2201\n",
      "Taxa de utilização do sistema (analítico)       : 0.1975\n",
      "--------------------------------------------------------------\n",
      "\n"
     ]
    }
   ],
   "source": [
    "engine.simula(50000)"
   ]
  },
  {
   "cell_type": "code",
   "execution_count": null,
   "metadata": {},
   "outputs": [],
   "source": []
  },
  {
   "cell_type": "code",
   "execution_count": null,
   "metadata": {},
   "outputs": [],
   "source": []
  }
 ],
 "metadata": {
  "kernelspec": {
   "display_name": "Python 3",
   "language": "python",
   "name": "python3"
  },
  "language_info": {
   "codemirror_mode": {
    "name": "ipython",
    "version": 3
   },
   "file_extension": ".py",
   "mimetype": "text/x-python",
   "name": "python",
   "nbconvert_exporter": "python",
   "pygments_lexer": "ipython3",
   "version": "3.8.3"
  }
 },
 "nbformat": 4,
 "nbformat_minor": 4
}
