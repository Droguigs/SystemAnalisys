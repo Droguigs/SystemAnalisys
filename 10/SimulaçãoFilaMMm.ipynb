{
 "cells": [
  {
   "cell_type": "markdown",
   "metadata": {},
   "source": [
    "# Simulação de filas MMm"
   ]
  },
  {
   "cell_type": "markdown",
   "metadata": {},
   "source": [
    "## Filas MMm\n",
    "O sistema possui  servidores e uma fila de espera de tamanho infinito.<br><br>\n",
    "As tarefas chegam segundo um processos de Poisson com taxa $\\lambda$, ou seja, o tempo decorrido entre duas chegadas consecutivas (variável $T$) tem distribuição exponencial com média $\\frac{1}{\\lambda}$.<br><br>\n",
    "A taxa de serviço em cada servidor é $\\mu$, ou seja, o tempo de serviço para cada tarefa (variável $S$) tem distribuição exponencial com media $\\frac{1}{\\mu}$.<br><br>\n",
    "A variável $R$ representa o tempo de resposta do sistema, ou seja, o tempo decorrido desde a chegada no sistema até a saída do mesmo.<br><br>\n",
    "A variável $W$ representa o tempo de espera na fila, ou seja, o tempo que uma tafefa permanece esperando na fila.<br><br>\n",
    "A variável $N$ representa a quantidade de tarefas dentro do sistema.<br><br>\n",
    "A variável $N_{q}$ representa a quantidade de tarefas na fila.<br><br>\n",
    "A variável $N_{s}$ representa a quantidade de tarefas sendo servidas.<br><br>\n",
    "Os parâmetros do sistema são:\n",
    "* Quantidade de servidores: $m$\n",
    "* Taxa de chegada: $\\lambda$\n",
    "* Taxa de serviço: $\\mu$\n",
    "* Quantidade de eventos simulados: $nsim$\n",
    "A taxa de serviço precisa ser maior do que a taxa de chegada ($\\mu > \\lambda$)"
   ]
  },
  {
   "cell_type": "markdown",
   "metadata": {},
   "source": [
    "### Classe Engine MMm\n",
    "A classe **engineMMm** implementa a simulação de filas MMm.<br><br>\n",
    "O contrutor da classe recebe como argumento a taxa de chegadas $\\lambda$, a taxa de serviço de cada servidor $\\mu$ e a quantidade de servidores $m$."
   ]
  },
  {
   "cell_type": "code",
   "execution_count": 1,
   "metadata": {},
   "outputs": [],
   "source": [
    "from engineMMm import engineMMm"
   ]
  },
  {
   "cell_type": "code",
   "execution_count": 2,
   "metadata": {},
   "outputs": [],
   "source": [
    "lb=2.2\n",
    "mu=10\n",
    "m=3\n",
    "engine = engineMMm(lb,mu,m)"
   ]
  },
  {
   "cell_type": "code",
   "execution_count": 3,
   "metadata": {},
   "outputs": [
    {
     "name": "stdout",
     "output_type": "stream",
     "text": [
      "--------------------------------------------------------------\n",
      "Numero de eventos                               : 50000\n",
      "Lambda                                          : 2.2000\n",
      "Mu                                              : 10.0000\n",
      "Numero de servidores                            : 3.0000\n",
      "Ro                                              : 0.0733\n",
      "Epsilon                                         : 0.0015\n",
      "P0                                              : 0.8025\n",
      "Taxa de perda                                   : 0.0000\n",
      "--------------------------------------------------------------\n",
      "\n",
      "Tempo medio na fila (simulado)                  : 0.0001\n",
      "Numero medio de elementos na fila (simulado)    : 0.0001\n",
      "Tempo medio de servico (simulado)               : 0.1005\n",
      "Numero medio de elementos servidos (simulado)   : 0.2212\n",
      "Tempo medio de resposta (simulado)              : 0.1006\n",
      "Numero medio de elemento no sistema (simulado)  : 0.2213\n",
      "Taxa de utilizacao do sistema (simulado)        : 0.1973\n",
      "--------------------------------------------------------------\n",
      "\n",
      "Tempo medio na fila (analítico)                 : 0.0001\n",
      "Numero medio de elementos na fila (analitico)   : 0.0001\n",
      "Tempo medio de servico (analítico)              : 0.1000\n",
      "Numero medio de elementos servidos (analitico)  : 0.2200\n",
      "Tempo medio de resposta (analítico)             : 0.1001\n",
      "Numero medio de elemento no sistema (analitico) : 0.2201\n",
      "Taxa de utilização do sistema (analítico)       : 0.1975\n",
      "--------------------------------------------------------------\n",
      "\n"
     ]
    }
   ],
   "source": [
    "engine.simula(50000)"
   ]
  },
  {
   "cell_type": "code",
   "execution_count": 4,
   "metadata": {},
   "outputs": [],
   "source": [
    "# Valores fixos\n",
    "mu=10\n",
    "m=2"
   ]
  },
  {
   "cell_type": "markdown",
   "metadata": {},
   "source": [
    "### Experimento 1"
   ]
  },
  {
   "cell_type": "code",
   "execution_count": 5,
   "metadata": {},
   "outputs": [
    {
     "name": "stdout",
     "output_type": "stream",
     "text": [
      "--------------------------------------------------------------\n",
      "Numero de eventos                               : 50000\n",
      "Lambda                                          : 2.0000\n",
      "Mu                                              : 10.0000\n",
      "Numero de servidores                            : 2.0000\n",
      "Ro                                              : 0.1000\n",
      "Epsilon                                         : 0.0182\n",
      "P0                                              : 0.8182\n",
      "Taxa de perda                                   : 0.0000\n",
      "--------------------------------------------------------------\n",
      "\n",
      "Tempo medio na fila (simulado)                  : 0.0009\n",
      "Numero medio de elementos na fila (simulado)    : 0.0018\n",
      "Tempo medio de servico (simulado)               : 0.1000\n",
      "Numero medio de elementos servidos (simulado)   : 0.2001\n",
      "Tempo medio de resposta (simulado)              : 0.1010\n",
      "Numero medio de elemento no sistema (simulado)  : 0.2019\n",
      "Taxa de utilizacao do sistema (simulado)        : 0.1825\n",
      "--------------------------------------------------------------\n",
      "\n",
      "Tempo medio na fila (analítico)                 : 0.0010\n",
      "Numero medio de elementos na fila (analitico)   : 0.0020\n",
      "Tempo medio de servico (analítico)              : 0.1000\n",
      "Numero medio de elementos servidos (analitico)  : 0.2000\n",
      "Tempo medio de resposta (analítico)             : 0.1010\n",
      "Numero medio de elemento no sistema (analitico) : 0.2020\n",
      "Taxa de utilização do sistema (analítico)       : 0.1818\n",
      "--------------------------------------------------------------\n",
      "\n"
     ]
    }
   ],
   "source": [
    "lb=2\n",
    "engine = engineMMm(lb,mu,m)\n",
    "engine.simula(50000)"
   ]
  },
  {
   "cell_type": "markdown",
   "metadata": {},
   "source": [
    "### Experimento 2"
   ]
  },
  {
   "cell_type": "code",
   "execution_count": 6,
   "metadata": {},
   "outputs": [
    {
     "name": "stdout",
     "output_type": "stream",
     "text": [
      "--------------------------------------------------------------\n",
      "Numero de eventos                               : 50000\n",
      "Lambda                                          : 4.0000\n",
      "Mu                                              : 10.0000\n",
      "Numero de servidores                            : 2.0000\n",
      "Ro                                              : 0.2000\n",
      "Epsilon                                         : 0.0667\n",
      "P0                                              : 0.6667\n",
      "Taxa de perda                                   : 0.0000\n",
      "--------------------------------------------------------------\n",
      "\n",
      "Tempo medio na fila (simulado)                  : 0.0039\n",
      "Numero medio de elementos na fila (simulado)    : 0.0157\n",
      "Tempo medio de servico (simulado)               : 0.0995\n",
      "Numero medio de elementos servidos (simulado)   : 0.3980\n",
      "Tempo medio de resposta (simulado)              : 0.1034\n",
      "Numero medio de elemento no sistema (simulado)  : 0.4137\n",
      "Taxa de utilizacao do sistema (simulado)        : 0.3320\n",
      "--------------------------------------------------------------\n",
      "\n",
      "Tempo medio na fila (analítico)                 : 0.0042\n",
      "Numero medio de elementos na fila (analitico)   : 0.0167\n",
      "Tempo medio de servico (analítico)              : 0.1000\n",
      "Numero medio de elementos servidos (analitico)  : 0.4000\n",
      "Tempo medio de resposta (analítico)             : 0.1042\n",
      "Numero medio de elemento no sistema (analitico) : 0.4167\n",
      "Taxa de utilização do sistema (analítico)       : 0.3333\n",
      "--------------------------------------------------------------\n",
      "\n"
     ]
    }
   ],
   "source": [
    "lb=4\n",
    "engine = engineMMm(lb,mu,m)\n",
    "engine.simula(50000)"
   ]
  },
  {
   "cell_type": "markdown",
   "metadata": {},
   "source": [
    "### Experimento 3"
   ]
  },
  {
   "cell_type": "code",
   "execution_count": 7,
   "metadata": {},
   "outputs": [
    {
     "name": "stdout",
     "output_type": "stream",
     "text": [
      "--------------------------------------------------------------\n",
      "Numero de eventos                               : 50000\n",
      "Lambda                                          : 6.0000\n",
      "Mu                                              : 10.0000\n",
      "Numero de servidores                            : 2.0000\n",
      "Ro                                              : 0.3000\n",
      "Epsilon                                         : 0.1385\n",
      "P0                                              : 0.5385\n",
      "Taxa de perda                                   : 0.0000\n",
      "--------------------------------------------------------------\n",
      "\n",
      "Tempo medio na fila (simulado)                  : 0.0095\n",
      "Numero medio de elementos na fila (simulado)    : 0.0568\n",
      "Tempo medio de servico (simulado)               : 0.0999\n",
      "Numero medio de elementos servidos (simulado)   : 0.5994\n",
      "Tempo medio de resposta (simulado)              : 0.1094\n",
      "Numero medio de elemento no sistema (simulado)  : 0.6565\n",
      "Taxa de utilizacao do sistema (simulado)        : 0.4604\n",
      "--------------------------------------------------------------\n",
      "\n",
      "Tempo medio na fila (analítico)                 : 0.0099\n",
      "Numero medio de elementos na fila (analitico)   : 0.0593\n",
      "Tempo medio de servico (analítico)              : 0.1000\n",
      "Numero medio de elementos servidos (analitico)  : 0.6000\n",
      "Tempo medio de resposta (analítico)             : 0.1099\n",
      "Numero medio de elemento no sistema (analitico) : 0.6593\n",
      "Taxa de utilização do sistema (analítico)       : 0.4615\n",
      "--------------------------------------------------------------\n",
      "\n"
     ]
    }
   ],
   "source": [
    "lb=6\n",
    "engine = engineMMm(lb,mu,m)\n",
    "engine.simula(50000)"
   ]
  },
  {
   "cell_type": "markdown",
   "metadata": {},
   "source": [
    "### Experimento 4"
   ]
  },
  {
   "cell_type": "code",
   "execution_count": 8,
   "metadata": {},
   "outputs": [
    {
     "name": "stdout",
     "output_type": "stream",
     "text": [
      "--------------------------------------------------------------\n",
      "Numero de eventos                               : 50000\n",
      "Lambda                                          : 8.0000\n",
      "Mu                                              : 10.0000\n",
      "Numero de servidores                            : 2.0000\n",
      "Ro                                              : 0.4000\n",
      "Epsilon                                         : 0.2286\n",
      "P0                                              : 0.4286\n",
      "Taxa de perda                                   : 0.0000\n",
      "--------------------------------------------------------------\n",
      "\n",
      "Tempo medio na fila (simulado)                  : 0.0193\n",
      "Numero medio de elementos na fila (simulado)    : 0.1540\n",
      "Tempo medio de servico (simulado)               : 0.1001\n",
      "Numero medio de elementos servidos (simulado)   : 0.8010\n",
      "Tempo medio de resposta (simulado)              : 0.1195\n",
      "Numero medio de elemento no sistema (simulado)  : 0.9558\n",
      "Taxa de utilizacao do sistema (simulado)        : 0.5700\n",
      "--------------------------------------------------------------\n",
      "\n",
      "Tempo medio na fila (analítico)                 : 0.0190\n",
      "Numero medio de elementos na fila (analitico)   : 0.1524\n",
      "Tempo medio de servico (analítico)              : 0.1000\n",
      "Numero medio de elementos servidos (analitico)  : 0.8000\n",
      "Tempo medio de resposta (analítico)             : 0.1190\n",
      "Numero medio de elemento no sistema (analitico) : 0.9524\n",
      "Taxa de utilização do sistema (analítico)       : 0.5714\n",
      "--------------------------------------------------------------\n",
      "\n"
     ]
    }
   ],
   "source": [
    "lb=8\n",
    "engine = engineMMm(lb,mu,m)\n",
    "engine.simula(50000)"
   ]
  },
  {
   "cell_type": "markdown",
   "metadata": {},
   "source": [
    "### Experimento 5"
   ]
  },
  {
   "cell_type": "code",
   "execution_count": 9,
   "metadata": {},
   "outputs": [
    {
     "name": "stdout",
     "output_type": "stream",
     "text": [
      "--------------------------------------------------------------\n",
      "Numero de eventos                               : 50000\n",
      "Lambda                                          : 10.0000\n",
      "Mu                                              : 10.0000\n",
      "Numero de servidores                            : 2.0000\n",
      "Ro                                              : 0.5000\n",
      "Epsilon                                         : 0.3333\n",
      "P0                                              : 0.3333\n",
      "Taxa de perda                                   : 0.0000\n",
      "--------------------------------------------------------------\n",
      "\n",
      "Tempo medio na fila (simulado)                  : 0.0361\n",
      "Numero medio de elementos na fila (simulado)    : 0.3624\n",
      "Tempo medio de servico (simulado)               : 0.1003\n",
      "Numero medio de elementos servidos (simulado)   : 1.0029\n",
      "Tempo medio de resposta (simulado)              : 0.1364\n",
      "Numero medio de elemento no sistema (simulado)  : 1.3642\n",
      "Taxa de utilizacao do sistema (simulado)        : 0.6683\n",
      "--------------------------------------------------------------\n",
      "\n",
      "Tempo medio na fila (analítico)                 : 0.0333\n",
      "Numero medio de elementos na fila (analitico)   : 0.3333\n",
      "Tempo medio de servico (analítico)              : 0.1000\n",
      "Numero medio de elementos servidos (analitico)  : 1.0000\n",
      "Tempo medio de resposta (analítico)             : 0.1333\n",
      "Numero medio de elemento no sistema (analitico) : 1.3333\n",
      "Taxa de utilização do sistema (analítico)       : 0.6667\n",
      "--------------------------------------------------------------\n",
      "\n"
     ]
    }
   ],
   "source": [
    "lb=10\n",
    "engine = engineMMm(lb,mu,m)\n",
    "engine.simula(50000)"
   ]
  },
  {
   "cell_type": "markdown",
   "metadata": {},
   "source": [
    "### Experimento 6"
   ]
  },
  {
   "cell_type": "code",
   "execution_count": 10,
   "metadata": {},
   "outputs": [
    {
     "name": "stdout",
     "output_type": "stream",
     "text": [
      "--------------------------------------------------------------\n",
      "Numero de eventos                               : 50000\n",
      "Lambda                                          : 12.0000\n",
      "Mu                                              : 10.0000\n",
      "Numero de servidores                            : 2.0000\n",
      "Ro                                              : 0.6000\n",
      "Epsilon                                         : 0.4500\n",
      "P0                                              : 0.2500\n",
      "Taxa de perda                                   : 0.0000\n",
      "--------------------------------------------------------------\n",
      "\n",
      "Tempo medio na fila (simulado)                  : 0.0558\n",
      "Numero medio de elementos na fila (simulado)    : 0.6673\n",
      "Tempo medio de servico (simulado)               : 0.1001\n",
      "Numero medio de elementos servidos (simulado)   : 1.2013\n",
      "Tempo medio de resposta (simulado)              : 0.1559\n",
      "Numero medio de elemento no sistema (simulado)  : 1.8713\n",
      "Taxa de utilizacao do sistema (simulado)        : 0.7491\n",
      "--------------------------------------------------------------\n",
      "\n",
      "Tempo medio na fila (analítico)                 : 0.0562\n",
      "Numero medio de elementos na fila (analitico)   : 0.6750\n",
      "Tempo medio de servico (analítico)              : 0.1000\n",
      "Numero medio de elementos servidos (analitico)  : 1.2000\n",
      "Tempo medio de resposta (analítico)             : 0.1562\n",
      "Numero medio de elemento no sistema (analitico) : 1.8750\n",
      "Taxa de utilização do sistema (analítico)       : 0.7500\n",
      "--------------------------------------------------------------\n",
      "\n"
     ]
    }
   ],
   "source": [
    "lb=12\n",
    "engine = engineMMm(lb,mu,m)\n",
    "engine.simula(50000)"
   ]
  },
  {
   "cell_type": "markdown",
   "metadata": {},
   "source": [
    "### Experimento 7"
   ]
  },
  {
   "cell_type": "code",
   "execution_count": 11,
   "metadata": {},
   "outputs": [
    {
     "name": "stdout",
     "output_type": "stream",
     "text": [
      "--------------------------------------------------------------\n",
      "Numero de eventos                               : 50000\n",
      "Lambda                                          : 14.0000\n",
      "Mu                                              : 10.0000\n",
      "Numero de servidores                            : 2.0000\n",
      "Ro                                              : 0.7000\n",
      "Epsilon                                         : 0.5765\n",
      "P0                                              : 0.1765\n",
      "Taxa de perda                                   : 0.0000\n",
      "--------------------------------------------------------------\n",
      "\n",
      "Tempo medio na fila (simulado)                  : 0.1038\n",
      "Numero medio de elementos na fila (simulado)    : 1.4622\n",
      "Tempo medio de servico (simulado)               : 0.1005\n",
      "Numero medio de elementos servidos (simulado)   : 1.4063\n",
      "Tempo medio de resposta (simulado)              : 0.2042\n",
      "Numero medio de elemento no sistema (simulado)  : 2.8590\n",
      "Taxa de utilizacao do sistema (simulado)        : 0.8298\n",
      "--------------------------------------------------------------\n",
      "\n",
      "Tempo medio na fila (analítico)                 : 0.0961\n",
      "Numero medio de elementos na fila (analitico)   : 1.3451\n",
      "Tempo medio de servico (analítico)              : 0.1000\n",
      "Numero medio de elementos servidos (analitico)  : 1.4000\n",
      "Tempo medio de resposta (analítico)             : 0.1961\n",
      "Numero medio de elemento no sistema (analitico) : 2.7451\n",
      "Taxa de utilização do sistema (analítico)       : 0.8235\n",
      "--------------------------------------------------------------\n",
      "\n"
     ]
    }
   ],
   "source": [
    "lb=14\n",
    "engine = engineMMm(lb,mu,m)\n",
    "engine.simula(50000)"
   ]
  },
  {
   "cell_type": "markdown",
   "metadata": {},
   "source": [
    "### Experimento 8"
   ]
  },
  {
   "cell_type": "code",
   "execution_count": 12,
   "metadata": {},
   "outputs": [
    {
     "name": "stdout",
     "output_type": "stream",
     "text": [
      "--------------------------------------------------------------\n",
      "Numero de eventos                               : 50000\n",
      "Lambda                                          : 16.0000\n",
      "Mu                                              : 10.0000\n",
      "Numero de servidores                            : 2.0000\n",
      "Ro                                              : 0.8000\n",
      "Epsilon                                         : 0.7111\n",
      "P0                                              : 0.1111\n",
      "Taxa de perda                                   : 0.0000\n",
      "--------------------------------------------------------------\n",
      "\n",
      "Tempo medio na fila (simulado)                  : 0.2004\n",
      "Numero medio de elementos na fila (simulado)    : 3.2213\n",
      "Tempo medio de servico (simulado)               : 0.1010\n",
      "Numero medio de elementos servidos (simulado)   : 1.6163\n",
      "Tempo medio de resposta (simulado)              : 0.3014\n",
      "Numero medio de elemento no sistema (simulado)  : 4.8224\n",
      "Taxa de utilizacao do sistema (simulado)        : 0.8958\n",
      "--------------------------------------------------------------\n",
      "\n",
      "Tempo medio na fila (analítico)                 : 0.1778\n",
      "Numero medio de elementos na fila (analitico)   : 2.8444\n",
      "Tempo medio de servico (analítico)              : 0.1000\n",
      "Numero medio de elementos servidos (analitico)  : 1.6000\n",
      "Tempo medio de resposta (analítico)             : 0.2778\n",
      "Numero medio de elemento no sistema (analitico) : 4.4444\n",
      "Taxa de utilização do sistema (analítico)       : 0.8889\n",
      "--------------------------------------------------------------\n",
      "\n"
     ]
    }
   ],
   "source": [
    "lb=16\n",
    "engine = engineMMm(lb,mu,m)\n",
    "engine.simula(50000)"
   ]
  },
  {
   "cell_type": "markdown",
   "metadata": {},
   "source": [
    "### Experimento 9"
   ]
  },
  {
   "cell_type": "code",
   "execution_count": 13,
   "metadata": {},
   "outputs": [
    {
     "name": "stdout",
     "output_type": "stream",
     "text": [
      "--------------------------------------------------------------\n",
      "Numero de eventos                               : 50000\n",
      "Lambda                                          : 18.0000\n",
      "Mu                                              : 10.0000\n",
      "Numero de servidores                            : 2.0000\n",
      "Ro                                              : 0.9000\n",
      "Epsilon                                         : 0.8526\n",
      "P0                                              : 0.0526\n",
      "Taxa de perda                                   : 0.0000\n",
      "--------------------------------------------------------------\n",
      "\n",
      "Tempo medio na fila (simulado)                  : 0.4326\n",
      "Numero medio de elementos na fila (simulado)    : 7.7753\n",
      "Tempo medio de servico (simulado)               : 0.0995\n",
      "Numero medio de elementos servidos (simulado)   : 1.7909\n",
      "Tempo medio de resposta (simulado)              : 0.5321\n",
      "Numero medio de elemento no sistema (simulado)  : 9.5773\n",
      "Taxa de utilizacao do sistema (simulado)        : 0.9437\n",
      "--------------------------------------------------------------\n",
      "\n",
      "Tempo medio na fila (analítico)                 : 0.4263\n",
      "Numero medio de elementos na fila (analitico)   : 7.6737\n",
      "Tempo medio de servico (analítico)              : 0.1000\n",
      "Numero medio de elementos servidos (analitico)  : 1.8000\n",
      "Tempo medio de resposta (analítico)             : 0.5263\n",
      "Numero medio de elemento no sistema (analitico) : 9.4737\n",
      "Taxa de utilização do sistema (analítico)       : 0.9474\n",
      "--------------------------------------------------------------\n",
      "\n"
     ]
    }
   ],
   "source": [
    "lb=18\n",
    "engine = engineMMm(lb,mu,m)\n",
    "engine.simula(50000)"
   ]
  },
  {
   "cell_type": "markdown",
   "metadata": {},
   "source": [
    "### Experimento 10"
   ]
  },
  {
   "cell_type": "code",
   "execution_count": 14,
   "metadata": {},
   "outputs": [
    {
     "name": "stdout",
     "output_type": "stream",
     "text": [
      "--------------------------------------------------------------\n",
      "Numero de eventos                               : 50000\n",
      "Lambda                                          : 19.0000\n",
      "Mu                                              : 10.0000\n",
      "Numero de servidores                            : 2.0000\n",
      "Ro                                              : 0.9500\n",
      "Epsilon                                         : 0.9256\n",
      "P0                                              : 0.0256\n",
      "Taxa de perda                                   : 0.0000\n",
      "--------------------------------------------------------------\n",
      "\n",
      "Tempo medio na fila (simulado)                  : 0.9119\n",
      "Numero medio de elementos na fila (simulado)    : 17.3880\n",
      "Tempo medio de servico (simulado)               : 0.0995\n",
      "Numero medio de elementos servidos (simulado)   : 1.8904\n",
      "Tempo medio de resposta (simulado)              : 1.0114\n",
      "Numero medio de elemento no sistema (simulado)  : 19.2161\n",
      "Taxa de utilizacao do sistema (simulado)        : 0.9729\n",
      "--------------------------------------------------------------\n",
      "\n",
      "Tempo medio na fila (analítico)                 : 0.9256\n",
      "Numero medio de elementos na fila (analitico)   : 17.5872\n",
      "Tempo medio de servico (analítico)              : 0.1000\n",
      "Numero medio de elementos servidos (analitico)  : 1.9000\n",
      "Tempo medio de resposta (analítico)             : 1.0256\n",
      "Numero medio de elemento no sistema (analitico) : 19.4872\n",
      "Taxa de utilização do sistema (analítico)       : 0.9744\n",
      "--------------------------------------------------------------\n",
      "\n"
     ]
    }
   ],
   "source": [
    "lb=19\n",
    "engine = engineMMm(lb,mu,m)\n",
    "engine.simula(50000)"
   ]
  },
  {
   "cell_type": "markdown",
   "metadata": {},
   "source": [
    "### Tests"
   ]
  },
  {
   "cell_type": "code",
   "execution_count": 15,
   "metadata": {},
   "outputs": [
    {
     "name": "stdout",
     "output_type": "stream",
     "text": [
      "--------------------------------------------------------------\n",
      "Numero de eventos                               : 50000\n",
      "Lambda                                          : 17.8000\n",
      "Mu                                              : 10.0000\n",
      "Numero de servidores                            : 2.0000\n",
      "Ro                                              : 0.8900\n",
      "Epsilon                                         : 0.8382\n",
      "P0                                              : 0.0582\n",
      "Taxa de perda                                   : 0.0000\n",
      "--------------------------------------------------------------\n",
      "\n",
      "Tempo medio na fila (simulado)                  : 0.4465\n",
      "Numero medio de elementos na fila (simulado)    : 8.0217\n",
      "Tempo medio de servico (simulado)               : 0.1002\n",
      "Numero medio de elementos servidos (simulado)   : 1.7829\n",
      "Tempo medio de resposta (simulado)              : 0.5467\n",
      "Numero medio de elemento no sistema (simulado)  : 9.7309\n",
      "Taxa de utilizacao do sistema (simulado)        : 0.9466\n",
      "--------------------------------------------------------------\n",
      "\n",
      "Tempo medio na fila (analítico)                 : 0.3810\n",
      "Numero medio de elementos na fila (analitico)   : 6.7818\n",
      "Tempo medio de servico (analítico)              : 0.1000\n",
      "Numero medio de elementos servidos (analitico)  : 1.7800\n",
      "Tempo medio de resposta (analítico)             : 0.4810\n",
      "Numero medio de elemento no sistema (analitico) : 8.5618\n",
      "Taxa de utilização do sistema (analítico)       : 0.9418\n",
      "--------------------------------------------------------------\n",
      "\n"
     ]
    }
   ],
   "source": [
    "lb=17.8\n",
    "engine = engineMMm(lb,mu,m)\n",
    "engine.simula(50000)"
   ]
  },
  {
   "cell_type": "code",
   "execution_count": 16,
   "metadata": {},
   "outputs": [
    {
     "name": "stdout",
     "output_type": "stream",
     "text": [
      "--------------------------------------------------------------\n",
      "Numero de eventos                               : 50000\n",
      "Lambda                                          : 17.9000\n",
      "Mu                                              : 10.0000\n",
      "Numero de servidores                            : 2.0000\n",
      "Ro                                              : 0.8950\n",
      "Epsilon                                         : 0.8454\n",
      "P0                                              : 0.0554\n",
      "Taxa de perda                                   : 0.0000\n",
      "--------------------------------------------------------------\n",
      "\n",
      "Tempo medio na fila (simulado)                  : 0.3551\n",
      "Numero medio de elementos na fila (simulado)    : 6.3630\n",
      "Tempo medio de servico (simulado)               : 0.0988\n",
      "Numero medio de elementos servidos (simulado)   : 1.7689\n",
      "Tempo medio de resposta (simulado)              : 0.4540\n",
      "Numero medio de elemento no sistema (simulado)  : 8.1258\n",
      "Taxa de utilizacao do sistema (simulado)        : 0.9385\n",
      "--------------------------------------------------------------\n",
      "\n",
      "Tempo medio na fila (analítico)                 : 0.4026\n",
      "Numero medio de elementos na fila (analitico)   : 7.2061\n",
      "Tempo medio de servico (analítico)              : 0.1000\n",
      "Numero medio de elementos servidos (analitico)  : 1.7900\n",
      "Tempo medio de resposta (analítico)             : 0.5026\n",
      "Numero medio de elemento no sistema (analitico) : 8.9961\n",
      "Taxa de utilização do sistema (analítico)       : 0.9446\n",
      "--------------------------------------------------------------\n",
      "\n"
     ]
    }
   ],
   "source": [
    "lb=17.9\n",
    "engine = engineMMm(lb,mu,m)\n",
    "engine.simula(50000)"
   ]
  }
 ],
 "metadata": {
  "kernelspec": {
   "display_name": "Python 3 (ipykernel)",
   "language": "python",
   "name": "python3"
  },
  "language_info": {
   "codemirror_mode": {
    "name": "ipython",
    "version": 3
   },
   "file_extension": ".py",
   "mimetype": "text/x-python",
   "name": "python",
   "nbconvert_exporter": "python",
   "pygments_lexer": "ipython3",
   "version": "3.9.5"
  }
 },
 "nbformat": 4,
 "nbformat_minor": 4
}
